{
  "nbformat": 4,
  "nbformat_minor": 0,
  "metadata": {
    "colab": {
      "name": "Project_ML.ipynb",
      "provenance": [],
      "collapsed_sections": [],
      "toc_visible": true
    },
    "kernelspec": {
      "name": "python3",
      "display_name": "Python 3"
    },
    "language_info": {
      "name": "python"
    }
  },
  "cells": [
    {
      "cell_type": "markdown",
      "metadata": {
        "id": "GVkS_uzlo36c"
      },
      "source": [
        "###Mounting Drive"
      ]
    },
    {
      "cell_type": "code",
      "metadata": {
        "colab": {
          "base_uri": "https://localhost:8080/"
        },
        "id": "hqe9ukN6osTV",
        "outputId": "bff406eb-7c82-4a14-df07-ab5d4cb5fb23"
      },
      "source": [
        "from google.colab import drive\n",
        "drive.mount('/content/gdrive')"
      ],
      "execution_count": 1,
      "outputs": [
        {
          "output_type": "stream",
          "text": [
            "Mounted at /content/gdrive\n"
          ],
          "name": "stdout"
        }
      ]
    },
    {
      "cell_type": "markdown",
      "metadata": {
        "id": "T_3LiY8jpfY0"
      },
      "source": [
        "###Dependencies"
      ]
    },
    {
      "cell_type": "code",
      "metadata": {
        "id": "UBQMEwwuph-2"
      },
      "source": [
        "import numpy as np\n",
        "import pandas as pd\n",
        "import seaborn as sns\n",
        "from matplotlib import pyplot as plt\n",
        "import pickle\n",
        "from sklearn.model_selection import train_test_split\n",
        "from sklearn.preprocessing import StandardScaler\n",
        "from sklearn.discriminant_analysis import LinearDiscriminantAnalysis\n",
        "from sklearn.model_selection import cross_val_score\n",
        "from sklearn.tree import DecisionTreeClassifier\n",
        "from sklearn.ensemble import AdaBoostClassifier\n",
        "from sklearn.feature_selection import SelectKBest\n",
        "from sklearn.naive_bayes import GaussianNB\n",
        "from sklearn.neural_network import MLPClassifier\n",
        "from sklearn.svm import SVC"
      ],
      "execution_count": 2,
      "outputs": []
    },
    {
      "cell_type": "markdown",
      "metadata": {
        "id": "ZgilH08_qnfQ"
      },
      "source": [
        "###Uploading data"
      ]
    },
    {
      "cell_type": "markdown",
      "metadata": {
        "id": "R8Sxlo-gTJFs"
      },
      "source": [
        "Function to unpicle the files"
      ]
    },
    {
      "cell_type": "code",
      "metadata": {
        "id": "UVeLa0dyqo7z"
      },
      "source": [
        "def unpickle(file):\n",
        "  import pickle\n",
        "  with open(file, 'rb') as fo:\n",
        "    d = pickle.load(fo, encoding='bytes')\n",
        "    data = np.array(d[b'data'])\n",
        "    labels = np.array(d[b'labels'])\n",
        "    dic = {}\n",
        "    for i in range(data.shape[1]):\n",
        "      dic[i] = data.T[i]\n",
        "    dic['label'] = labels\n",
        "    df1 = pd.DataFrame(dic)\n",
        "  return df1"
      ],
      "execution_count": 3,
      "outputs": []
    },
    {
      "cell_type": "markdown",
      "metadata": {
        "id": "YCZCYLVlTL6u"
      },
      "source": [
        "Unpickling all batches"
      ]
    },
    {
      "cell_type": "code",
      "metadata": {
        "id": "TO6dSTmUCIlZ"
      },
      "source": [
        "path = '/content/gdrive/MyDrive/ML Project/Project Data/'"
      ],
      "execution_count": 4,
      "outputs": []
    },
    {
      "cell_type": "code",
      "metadata": {
        "id": "wLcxuDg4rFwp",
        "colab": {
          "base_uri": "https://localhost:8080/"
        },
        "outputId": "64a9b629-b3b3-4e3a-c279-a77480c09136"
      },
      "source": [
        "path1 = path + 'data_batch_1'\n",
        "data_batch_1 = unpickle(path1)\n",
        "print(data_batch_1)"
      ],
      "execution_count": 5,
      "outputs": [
        {
          "output_type": "stream",
          "text": [
            "        0    1    2    3    4    5  ...  3067  3068  3069  3070  3071  label\n",
            "0      59   43   50   68   98  119  ...    57   104   140    84    72      6\n",
            "1     154  126  105  102  125  155  ...   133   136   139   142   144      9\n",
            "2     255  253  253  253  253  253  ...    72    79    83    83    84      9\n",
            "3      28   37   38   42   44   40  ...    48    38    28    37    46      4\n",
            "4     170  168  177  183  181  177  ...    79    78    82    78    80      1\n",
            "...   ...  ...  ...  ...  ...  ...  ...   ...   ...   ...   ...   ...    ...\n",
            "9995   18   18   21   23   24   23  ...    39    39    39    34    37      3\n",
            "9996  235  240  249  253  254  253  ...   174   179   182   181   181      9\n",
            "9997   71   60   74   73   87  125  ...    81    78    68    69    68      1\n",
            "9998  250  254  211   64   61   60  ...   132   133   215   255   254      1\n",
            "9999   62   61   60   59   94  123  ...   130   130   130   130   131      5\n",
            "\n",
            "[10000 rows x 3073 columns]\n"
          ],
          "name": "stdout"
        }
      ]
    },
    {
      "cell_type": "code",
      "metadata": {
        "id": "Q4r0lQms4e_6",
        "colab": {
          "base_uri": "https://localhost:8080/"
        },
        "outputId": "02d485dd-6310-405e-fa8f-01ead522fad4"
      },
      "source": [
        "path2 = path + 'data_batch_2'\n",
        "data_batch_2 = unpickle(path2)\n",
        "print(data_batch_2)"
      ],
      "execution_count": 6,
      "outputs": [
        {
          "output_type": "stream",
          "text": [
            "        0    1    2    3    4    5  ...  3067  3068  3069  3070  3071  label\n",
            "0      35   27   25   26   24   22  ...   171   169   169   168   168      1\n",
            "1      20   20   18   19   21   23  ...    70    66   111    97    51      6\n",
            "2     116  115  155  142   99  116  ...     5     5    18    84   124      6\n",
            "3      98   91   82   69   59   60  ...   112   120   125   132   138      8\n",
            "4      85  102  109  118   49   14  ...    85    71    64    65    66      8\n",
            "...   ...  ...  ...  ...  ...  ...  ...   ...   ...   ...   ...   ...    ...\n",
            "9995  236  233  233  233  233  233  ...   196   196   197   198   195      8\n",
            "9996  231  231  232  230  230  231  ...   161   172   170   170   176      8\n",
            "9997  127  139  155  149  132  158  ...   199   199   197   192   191      7\n",
            "9998  190  200  208  208  208  208  ...   162   162   163   182   192      2\n",
            "9999  177  174  182  188  186  189  ...   106   105   119   127   136      5\n",
            "\n",
            "[10000 rows x 3073 columns]\n"
          ],
          "name": "stdout"
        }
      ]
    },
    {
      "cell_type": "code",
      "metadata": {
        "id": "Y5u8KWls4h7t",
        "colab": {
          "base_uri": "https://localhost:8080/"
        },
        "outputId": "96d416d4-bb90-4399-868f-b533c30e9e9f"
      },
      "source": [
        "path3 = path + 'data_batch_3'\n",
        "data_batch_3 = unpickle(path3)\n",
        "print(data_batch_3)"
      ],
      "execution_count": 7,
      "outputs": [
        {
          "output_type": "stream",
          "text": [
            "        0    1    2    3    4    5  ...  3067  3068  3069  3070  3071  label\n",
            "0      26   17   13   13   13   14  ...    46    28    27    26    27      8\n",
            "1      94  101   95   94   94   97  ...   163   174   182   184   155      5\n",
            "2     183  158  166  167  169  171  ...   250   250   250   250   250      0\n",
            "3     255  254  255  255  255  255  ...   255   255   255   255   255      6\n",
            "4     182  156  156  144  118  132  ...    72    68    73    67    75      9\n",
            "...   ...  ...  ...  ...  ...  ...  ...   ...   ...   ...   ...   ...    ...\n",
            "9995   25   25   26   27   27   27  ...   175   175   175   178   155      2\n",
            "9996   65   66   69   73   75   72  ...    44    40    39    38    36      5\n",
            "9997  175  200  207  206  191  174  ...    98   118   124    49    32      3\n",
            "9998   28   59   67   71   30   59  ...    54    48    36    44    41      7\n",
            "9999   62   40   61   75   85  128  ...   129   127   127   124   116      1\n",
            "\n",
            "[10000 rows x 3073 columns]\n"
          ],
          "name": "stdout"
        }
      ]
    },
    {
      "cell_type": "code",
      "metadata": {
        "id": "_V8QDPUX4jog",
        "colab": {
          "base_uri": "https://localhost:8080/"
        },
        "outputId": "a611aa26-6127-4002-92fe-3350f234971f"
      },
      "source": [
        "path4 = path + 'data_batch_4'\n",
        "data_batch_4 = unpickle(path4)\n",
        "print(data_batch_4)"
      ],
      "execution_count": 8,
      "outputs": [
        {
          "output_type": "stream",
          "text": [
            "        0    1    2    3    4    5  ...  3067  3068  3069  3070  3071  label\n",
            "0     178  178  178  178  179  179  ...    82    80    80    80    77      0\n",
            "1      29   22   25   24   28   43  ...    26    29    29    31    30      6\n",
            "2      36   33   21   20   52   54  ...   177   175   173   170   170      0\n",
            "3      30   45   44   50   71   64  ...   104   107   106    99   147      2\n",
            "4      35   80   89   52   47   39  ...    99   104   107   110    92      7\n",
            "...   ...  ...  ...  ...  ...  ...  ...   ...   ...   ...   ...   ...    ...\n",
            "9995  229  231  232  232  233  233  ...   106   151   174   181   190      0\n",
            "9996   68   59   53   46   52   60  ...    62    64    66    66    67      1\n",
            "9997  167  164  151  161  190  156  ...   115   130   132   142   130      6\n",
            "9998   45   46   46   47   48   48  ...    14    34    30    34    24      2\n",
            "9999  235  239  239  237  230  225  ...    25   114   182   175   174      8\n",
            "\n",
            "[10000 rows x 3073 columns]\n"
          ],
          "name": "stdout"
        }
      ]
    },
    {
      "cell_type": "code",
      "metadata": {
        "id": "tQo_dy1H4lp8",
        "colab": {
          "base_uri": "https://localhost:8080/"
        },
        "outputId": "48a0d1f6-65ed-4cf8-e465-1ffd2b6834b0"
      },
      "source": [
        "path5 = path + 'data_batch_5'\n",
        "data_batch_5 = unpickle(path5)\n",
        "print(data_batch_5)"
      ],
      "execution_count": 9,
      "outputs": [
        {
          "output_type": "stream",
          "text": [
            "        0    1    2    3    4    5  ...  3067  3068  3069  3070  3071  label\n",
            "0     255  252  253  250  238  233  ...   231   172   173   231   248      1\n",
            "1     127  126  127  127  128  128  ...    81    89   102   108   112      8\n",
            "2     116   64   19   29   36   40  ...    10     8     7     6     5      5\n",
            "3     205  213  235  232  112   98  ...    23    23    24    25    23      1\n",
            "4     189  184  181  186  191  177  ...    76    72    76    77    72      5\n",
            "...   ...  ...  ...  ...  ...  ...  ...   ...   ...   ...   ...   ...    ...\n",
            "9995  145  151  156  155  153  153  ...    59    57    56    53    54      2\n",
            "9996  255  254  255  254  254  254  ...    76    82    79    81    76      6\n",
            "9997   35   40   42   39   43   45  ...    93    87    77    66    50      9\n",
            "9998  189  186  185  184  182  181  ...   169   165   169   171   171      1\n",
            "9999  229  236  234  231  236  242  ...   171   174   173   162   161      1\n",
            "\n",
            "[10000 rows x 3073 columns]\n"
          ],
          "name": "stdout"
        }
      ]
    },
    {
      "cell_type": "code",
      "metadata": {
        "id": "qmfzgRo44nhg",
        "colab": {
          "base_uri": "https://localhost:8080/"
        },
        "outputId": "aa210dbf-11b6-47ff-a7bc-4aea46c7c709"
      },
      "source": [
        "path_test = path + 'test_batch'\n",
        "test_batch = unpickle(path_test)\n",
        "print(test_batch)"
      ],
      "execution_count": 10,
      "outputs": [
        {
          "output_type": "stream",
          "text": [
            "        0    1    2    3    4    5  ...  3067  3068  3069  3070  3071  label\n",
            "0     158  159  165  166  160  156  ...   175   145   124   129   110      3\n",
            "1     235  231  232  232  232  232  ...   153   163   178   191   199      8\n",
            "2     158  158  139  132  166  182  ...    52    37     8     3     7      8\n",
            "3     155  167  176  190  177  166  ...    72    53    50    52    50      0\n",
            "4      65   70   48   30   23   40  ...   130   147   136   146   117      6\n",
            "...   ...  ...  ...  ...  ...  ...  ...   ...   ...   ...   ...   ...    ...\n",
            "9995   76   76   77   76   75   76  ...   239   235   236   234   236      8\n",
            "9996   81   91   98  106  108  110  ...   160   173   129   147   160      3\n",
            "9997   20   19   15   15   14   13  ...    52    51    50    53    47      5\n",
            "9998   25   15   23   17   23   51  ...    78    78    80    81    80      1\n",
            "9999   73   98   99   77   59  146  ...    93    90    94    58    26      7\n",
            "\n",
            "[10000 rows x 3073 columns]\n"
          ],
          "name": "stdout"
        }
      ]
    },
    {
      "cell_type": "markdown",
      "metadata": {
        "id": "8hvNDDSfTROT"
      },
      "source": [
        "Merging all batches"
      ]
    },
    {
      "cell_type": "code",
      "metadata": {
        "id": "iHhRAbevAP77",
        "colab": {
          "base_uri": "https://localhost:8080/"
        },
        "outputId": "f294cfb7-128c-4514-fd36-63d672b44d37"
      },
      "source": [
        "data_batch = pd.concat([data_batch_1, data_batch_2, data_batch_3, data_batch_4, data_batch_5], ignore_index=True)\n",
        "print(data_batch)"
      ],
      "execution_count": 11,
      "outputs": [
        {
          "output_type": "stream",
          "text": [
            "         0    1    2    3    4    5  ...  3067  3068  3069  3070  3071  label\n",
            "0       59   43   50   68   98  119  ...    57   104   140    84    72      6\n",
            "1      154  126  105  102  125  155  ...   133   136   139   142   144      9\n",
            "2      255  253  253  253  253  253  ...    72    79    83    83    84      9\n",
            "3       28   37   38   42   44   40  ...    48    38    28    37    46      4\n",
            "4      170  168  177  183  181  177  ...    79    78    82    78    80      1\n",
            "...    ...  ...  ...  ...  ...  ...  ...   ...   ...   ...   ...   ...    ...\n",
            "49995  145  151  156  155  153  153  ...    59    57    56    53    54      2\n",
            "49996  255  254  255  254  254  254  ...    76    82    79    81    76      6\n",
            "49997   35   40   42   39   43   45  ...    93    87    77    66    50      9\n",
            "49998  189  186  185  184  182  181  ...   169   165   169   171   171      1\n",
            "49999  229  236  234  231  236  242  ...   171   174   173   162   161      1\n",
            "\n",
            "[50000 rows x 3073 columns]\n"
          ],
          "name": "stdout"
        }
      ]
    },
    {
      "cell_type": "markdown",
      "metadata": {
        "id": "8-IknstHTUKh"
      },
      "source": [
        "###Converting to gray scale"
      ]
    },
    {
      "cell_type": "markdown",
      "metadata": {
        "id": "Mr3NFICATmuV"
      },
      "source": [
        "Taking average of pixel values to get image data in gray scale"
      ]
    },
    {
      "cell_type": "code",
      "metadata": {
        "id": "3EJdJ1lQ2pXN",
        "colab": {
          "base_uri": "https://localhost:8080/"
        },
        "outputId": "83e84369-f55d-4313-ac2b-43999f3bed46"
      },
      "source": [
        "data_np = data_batch.iloc[:,:-1].to_numpy()\n",
        "B = data_np[:,0:1024]\n",
        "G = data_np[:,1024:2048]\n",
        "R = data_np[:,2048:3072]\n",
        "data_batch_g = (B+G+R)/3\n",
        "data_batch_g = pd.DataFrame(data_batch_g)\n",
        "data_batch_g['label'] = data_batch['label']\n",
        "print(data_batch_g)"
      ],
      "execution_count": 12,
      "outputs": [
        {
          "output_type": "stream",
          "text": [
            "               0          1          2  ...       1022       1023  label\n",
            "0      61.333333  44.666667  47.000000  ...  32.333333  10.333333      6\n",
            "1       2.000000  47.666667  16.000000  ...  54.333333  54.666667      9\n",
            "2      84.333333  82.333333  82.333333  ...  82.333333  83.333333      9\n",
            "3      21.000000  30.000000  31.000000  ...  52.000000  61.000000      4\n",
            "4      12.000000  10.000000  17.666667  ...  74.666667  76.666667      1\n",
            "...          ...        ...        ...  ...        ...        ...    ...\n",
            "49995  81.333333   1.333333   6.666667  ...  42.333333  43.333333      2\n",
            "49996  40.000000  41.000000  43.000000  ...   0.666667  84.666667      6\n",
            "49997  64.000000  66.333333  67.666667  ...  43.333333  31.000000      9\n",
            "49998  42.666667  39.333333  38.333333  ...  14.666667  14.666667      1\n",
            "49999  61.666667  69.333333  68.333333  ...  78.000000  77.000000      1\n",
            "\n",
            "[50000 rows x 1025 columns]\n"
          ],
          "name": "stdout"
        }
      ]
    },
    {
      "cell_type": "code",
      "metadata": {
        "id": "lfED1ORo3Euj",
        "colab": {
          "base_uri": "https://localhost:8080/"
        },
        "outputId": "7969b954-339c-4829-e778-cdbf5eed0bf8"
      },
      "source": [
        "test_np = test_batch.iloc[:,:-1].to_numpy()\n",
        "B = test_np[:,0:1024]\n",
        "G = test_np[:,1024:2048]\n",
        "R = test_np[:,2048:3072]\n",
        "test_batch_g = (B+G+R)/3\n",
        "test_batch_g = pd.DataFrame(test_batch_g)\n",
        "test_batch_g['label'] = test_batch['label']\n",
        "print(test_batch_g)"
      ],
      "execution_count": 13,
      "outputs": [
        {
          "output_type": "stream",
          "text": [
            "              0          1          2  ...       1022       1023  label\n",
            "0     21.000000  20.333333  25.333333  ...  82.333333  66.000000      3\n",
            "1     64.333333  60.333333  61.333333  ...  18.000000  24.333333      8\n",
            "2     19.333333  17.000000  81.000000  ...   4.000000   7.333333      8\n",
            "3     68.000000   6.000000  12.000000  ...  60.333333  63.666667      0\n",
            "4     61.000000  71.666667  52.666667  ...  76.333333  48.333333      6\n",
            "...         ...        ...        ...  ...        ...        ...    ...\n",
            "9995  10.333333  10.666667  11.000000  ...  45.666667  46.333333      8\n",
            "9996  60.333333  71.000000  78.666667  ...  76.333333  78.333333      3\n",
            "9997  15.666667  14.666667  13.333333  ...  34.000000  30.666667      5\n",
            "9998  25.666667  18.000000  27.333333  ...  14.333333  12.000000      1\n",
            "9999  75.333333  19.333333  21.000000  ...  63.666667  26.333333      7\n",
            "\n",
            "[10000 rows x 1025 columns]\n"
          ],
          "name": "stdout"
        }
      ]
    },
    {
      "cell_type": "markdown",
      "metadata": {
        "id": "iU2K3ZaJWQGT"
      },
      "source": [
        "###Preprocessing"
      ]
    },
    {
      "cell_type": "markdown",
      "metadata": {
        "id": "z8eY1F-1UPWw"
      },
      "source": [
        "Dividing into feature and target variable, and futher into training, validation and testing data"
      ]
    },
    {
      "cell_type": "code",
      "metadata": {
        "id": "yXP3C0QBA4oo"
      },
      "source": [
        "x_train = data_batch.iloc[:, :-1]\n",
        "y_train = data_batch.iloc[:, -1]\n",
        "x_test = test_batch.iloc[:, :-1]\n",
        "y_test = test_batch.iloc[:, -1]"
      ],
      "execution_count": 14,
      "outputs": []
    },
    {
      "cell_type": "code",
      "metadata": {
        "id": "ii_zldyl8qfr"
      },
      "source": [
        "x_val = x_train.iloc[30000:, :]\n",
        "y_val = y_train.iloc[30000:]\n",
        "x_train = x_train.iloc[:30000, :]\n",
        "y_train = y_train.iloc[:30000]"
      ],
      "execution_count": 15,
      "outputs": []
    },
    {
      "cell_type": "code",
      "metadata": {
        "id": "i0hGMkYg3hT3"
      },
      "source": [
        "x_train_g = data_batch_g.iloc[:, :-1]\n",
        "y_train_g = data_batch_g.iloc[:, -1]\n",
        "x_test_g = test_batch_g.iloc[:, :-1]\n",
        "y_test_g = test_batch_g.iloc[:, -1]"
      ],
      "execution_count": 16,
      "outputs": []
    },
    {
      "cell_type": "code",
      "metadata": {
        "id": "AZ4UmHhj9Q3I"
      },
      "source": [
        "x_val_g = x_train_g.iloc[30000:, :]\n",
        "y_val_g = y_train_g.iloc[30000:]\n",
        "x_train_g = x_train_g.iloc[:30000, :]\n",
        "y_train_g = y_train_g.iloc[:30000]"
      ],
      "execution_count": 17,
      "outputs": []
    },
    {
      "cell_type": "markdown",
      "metadata": {
        "id": "OnyDrT7YWS3K"
      },
      "source": [
        "Scaling the data"
      ]
    },
    {
      "cell_type": "code",
      "metadata": {
        "id": "Qe9_vzXzCdKy"
      },
      "source": [
        "stdsc = StandardScaler()\n",
        "stdsc.fit(x_train)\n",
        "x_train_1 = stdsc.transform(x_train)\n",
        "x_val_1 = stdsc.transform(x_val)\n",
        "x_test_1 = stdsc.transform(x_test)"
      ],
      "execution_count": 18,
      "outputs": []
    },
    {
      "cell_type": "markdown",
      "metadata": {
        "id": "RFFEGmKUWabK"
      },
      "source": [
        "Dimensionality reduction using LDA"
      ]
    },
    {
      "cell_type": "code",
      "metadata": {
        "id": "aNm2eziMKTPM"
      },
      "source": [
        "lda = LinearDiscriminantAnalysis()\n",
        "lda.fit(x_train_1, y_train)\n",
        "x_train_2 = lda.transform(x_train_1)\n",
        "x_val_2 = lda.transform(x_val_1)\n",
        "x_test_2 = lda.transform(x_test_1)"
      ],
      "execution_count": 19,
      "outputs": []
    },
    {
      "cell_type": "markdown",
      "metadata": {
        "id": "AaPJwlr0Wd2J"
      },
      "source": [
        "Feature reduction using Select K Best"
      ]
    },
    {
      "cell_type": "code",
      "metadata": {
        "id": "STmUUW07L0wX"
      },
      "source": [
        "selkb = SelectKBest(k = 512)\n",
        "selkb.fit(x_train_1, y_train)\n",
        "x_train_3 = selkb.transform(x_train_1)\n",
        "x_val_3 = selkb.transform(x_val_1)\n",
        "x_test_3 = selkb.transform(x_test_1)"
      ],
      "execution_count": 20,
      "outputs": []
    },
    {
      "cell_type": "markdown",
      "metadata": {
        "id": "XopsxZpCmkhh"
      },
      "source": [
        "###Decision Tree classifier"
      ]
    },
    {
      "cell_type": "markdown",
      "metadata": {
        "id": "vvlFiCQjm5KB"
      },
      "source": [
        "Scaled Data"
      ]
    },
    {
      "cell_type": "code",
      "metadata": {
        "id": "Wa5dXwdvm6wG",
        "colab": {
          "base_uri": "https://localhost:8080/"
        },
        "outputId": "1d884aec-a8ca-40a8-ae4e-db6fe218c21f"
      },
      "source": [
        "model_dt_1 = DecisionTreeClassifier(max_depth = 15)\n",
        "model_dt_1.fit(x_train_1, y_train)\n",
        "print('Accuracy on training data : ', model_dt_1.score(x_train_1, y_train))"
      ],
      "execution_count": 21,
      "outputs": [
        {
          "output_type": "stream",
          "text": [
            "Accuracy on training data :  0.7700333333333333\n"
          ],
          "name": "stdout"
        }
      ]
    },
    {
      "cell_type": "code",
      "metadata": {
        "id": "oQk9s6AInHxH",
        "colab": {
          "base_uri": "https://localhost:8080/"
        },
        "outputId": "679aabdd-4aac-495f-e2fa-c377a0ba0a80"
      },
      "source": [
        "print('Accuracy on validation data : ', model_dt_1.score(x_val_1, y_val))"
      ],
      "execution_count": 22,
      "outputs": [
        {
          "output_type": "stream",
          "text": [
            "Accuracy on validation data :  0.27105\n"
          ],
          "name": "stdout"
        }
      ]
    },
    {
      "cell_type": "code",
      "metadata": {
        "id": "RqBD2ejrnODt",
        "colab": {
          "base_uri": "https://localhost:8080/"
        },
        "outputId": "7ea9276f-492b-4403-c425-963655905f7b"
      },
      "source": [
        "print('Accuracy on testing data : ', model_dt_1.score(x_test_1, y_test))"
      ],
      "execution_count": 23,
      "outputs": [
        {
          "output_type": "stream",
          "text": [
            "Accuracy on testing data :  0.2752\n"
          ],
          "name": "stdout"
        }
      ]
    },
    {
      "cell_type": "code",
      "metadata": {
        "id": "s-rs9_wNoc8L",
        "colab": {
          "base_uri": "https://localhost:8080/"
        },
        "outputId": "34651686-31c0-4946-eb20-42d8d91445cf"
      },
      "source": [
        "print('Cross Validation Score : ', cross_val_score(model_dt_1, x_train_1, y_train, cv=5))"
      ],
      "execution_count": 24,
      "outputs": [
        {
          "output_type": "stream",
          "text": [
            "Cross Validation Score :  [0.26966667 0.26966667 0.26516667 0.26683333 0.27683333]\n"
          ],
          "name": "stdout"
        }
      ]
    },
    {
      "cell_type": "markdown",
      "metadata": {
        "id": "U8-KF7dwnbvc"
      },
      "source": [
        "Data with reduced dimensions"
      ]
    },
    {
      "cell_type": "code",
      "metadata": {
        "id": "C2SreKM0nceT",
        "colab": {
          "base_uri": "https://localhost:8080/"
        },
        "outputId": "d917326c-0708-4bb2-b416-c237809d87ac"
      },
      "source": [
        "model_dt_2 = DecisionTreeClassifier(max_depth = 15)\n",
        "model_dt_2.fit(x_train_2, y_train)\n",
        "print('Accuracy on training data : ', model_dt_2.score(x_train_2, y_train))"
      ],
      "execution_count": 25,
      "outputs": [
        {
          "output_type": "stream",
          "text": [
            "Accuracy on training data :  0.7939\n"
          ],
          "name": "stdout"
        }
      ]
    },
    {
      "cell_type": "code",
      "metadata": {
        "id": "U2k10MOknjyE",
        "colab": {
          "base_uri": "https://localhost:8080/"
        },
        "outputId": "8d450c43-f54c-4f30-81d7-df483537ce2f"
      },
      "source": [
        "print('Accuracy on validation data : ', model_dt_2.score(x_val_2, y_val))"
      ],
      "execution_count": 26,
      "outputs": [
        {
          "output_type": "stream",
          "text": [
            "Accuracy on validation data :  0.2861\n"
          ],
          "name": "stdout"
        }
      ]
    },
    {
      "cell_type": "code",
      "metadata": {
        "id": "4cP-6EJ7nmDj",
        "colab": {
          "base_uri": "https://localhost:8080/"
        },
        "outputId": "861a31b5-c684-4e6c-fbbf-35c777b441e5"
      },
      "source": [
        "print('Accuracy on testing data : ', model_dt_2.score(x_test_2, y_test))"
      ],
      "execution_count": 27,
      "outputs": [
        {
          "output_type": "stream",
          "text": [
            "Accuracy on testing data :  0.2845\n"
          ],
          "name": "stdout"
        }
      ]
    },
    {
      "cell_type": "code",
      "metadata": {
        "id": "LVWQVSAXofHQ",
        "colab": {
          "base_uri": "https://localhost:8080/"
        },
        "outputId": "8dd1f1b7-c22a-40c4-8eb4-27818a9e20b9"
      },
      "source": [
        "print('Cross Validation Score : ', cross_val_score(model_dt_2, x_train_2, y_train, cv=5))"
      ],
      "execution_count": 28,
      "outputs": [
        {
          "output_type": "stream",
          "text": [
            "Cross Validation Score :  [0.43783333 0.44333333 0.43083333 0.44033333 0.4545    ]\n"
          ],
          "name": "stdout"
        }
      ]
    },
    {
      "cell_type": "markdown",
      "metadata": {
        "id": "655tb9vInuIg"
      },
      "source": [
        "Data with reduced features"
      ]
    },
    {
      "cell_type": "code",
      "metadata": {
        "id": "DiLSfwkTnvAQ",
        "colab": {
          "base_uri": "https://localhost:8080/"
        },
        "outputId": "b749d0ba-70bb-4376-f3a6-59b0fa395639"
      },
      "source": [
        "model_dt_3 = DecisionTreeClassifier(max_depth = 15)\n",
        "model_dt_3.fit(x_train_3, y_train)\n",
        "print('Accuracy on training data : ', model_dt_3.score(x_train_3, y_train))"
      ],
      "execution_count": 29,
      "outputs": [
        {
          "output_type": "stream",
          "text": [
            "Accuracy on training data :  0.6761666666666667\n"
          ],
          "name": "stdout"
        }
      ]
    },
    {
      "cell_type": "code",
      "metadata": {
        "id": "-95K0qRUnz3Q",
        "colab": {
          "base_uri": "https://localhost:8080/"
        },
        "outputId": "4fe84997-f70b-4483-9bb9-8c1284779a59"
      },
      "source": [
        "print('Accuracy on validation data : ', model_dt_3.score(x_val_3, y_val))"
      ],
      "execution_count": 30,
      "outputs": [
        {
          "output_type": "stream",
          "text": [
            "Accuracy on validation data :  0.22915\n"
          ],
          "name": "stdout"
        }
      ]
    },
    {
      "cell_type": "code",
      "metadata": {
        "id": "TC1Lg2Pwn1YC",
        "colab": {
          "base_uri": "https://localhost:8080/"
        },
        "outputId": "ce31935c-77bf-4286-c3ba-b690660a1d34"
      },
      "source": [
        "print('Accuracy on testing data : ', model_dt_3.score(x_test_3, y_test))"
      ],
      "execution_count": 31,
      "outputs": [
        {
          "output_type": "stream",
          "text": [
            "Accuracy on testing data :  0.2378\n"
          ],
          "name": "stdout"
        }
      ]
    },
    {
      "cell_type": "code",
      "metadata": {
        "id": "G-DjU6HRomat",
        "colab": {
          "base_uri": "https://localhost:8080/"
        },
        "outputId": "905bd788-5dd3-41bb-ec12-81e9aa6e7063"
      },
      "source": [
        "print('Cross Validation Score : ', cross_val_score(model_dt_3, x_train_3, y_train, cv=5))"
      ],
      "execution_count": 32,
      "outputs": [
        {
          "output_type": "stream",
          "text": [
            "Cross Validation Score :  [0.22616667 0.22183333 0.2265     0.24033333 0.22266667]\n"
          ],
          "name": "stdout"
        }
      ]
    },
    {
      "cell_type": "markdown",
      "metadata": {
        "id": "rlHCwrQhbLWN"
      },
      "source": [
        "###Adaboost Classifier"
      ]
    },
    {
      "cell_type": "markdown",
      "metadata": {
        "id": "lQSzkStJbPcU"
      },
      "source": [
        "Scaled Data"
      ]
    },
    {
      "cell_type": "code",
      "metadata": {
        "id": "YUJsukgBbOhO",
        "colab": {
          "base_uri": "https://localhost:8080/"
        },
        "outputId": "a2012446-2499-4b60-90b8-526049fe8f0c"
      },
      "source": [
        "model_b_1 = AdaBoostClassifier(base_estimator = DecisionTreeClassifier(max_depth = 3), n_estimators = 10)\n",
        "model_b_1.fit(x_train_1, y_train)\n",
        "print('Accuracy on training data : ', model_b_1.score(x_train_1, y_train))"
      ],
      "execution_count": 33,
      "outputs": [
        {
          "output_type": "stream",
          "text": [
            "Accuracy on training data :  0.3372\n"
          ],
          "name": "stdout"
        }
      ]
    },
    {
      "cell_type": "code",
      "metadata": {
        "id": "fIkwwliDbZ45",
        "colab": {
          "base_uri": "https://localhost:8080/"
        },
        "outputId": "f07bb545-53f1-41be-a7b3-4e1a93852c7f"
      },
      "source": [
        "print('Accuracy on validation data : ', model_b_1.score(x_val_1, y_val))"
      ],
      "execution_count": 34,
      "outputs": [
        {
          "output_type": "stream",
          "text": [
            "Accuracy on validation data :  0.32105\n"
          ],
          "name": "stdout"
        }
      ]
    },
    {
      "cell_type": "code",
      "metadata": {
        "id": "FDZnbN_WbeNE",
        "colab": {
          "base_uri": "https://localhost:8080/"
        },
        "outputId": "cf061342-c90f-4c9d-9d13-597d90a7a9bd"
      },
      "source": [
        "print('Accuracy on testing data : ', model_b_1.score(x_test_1, y_test))"
      ],
      "execution_count": 35,
      "outputs": [
        {
          "output_type": "stream",
          "text": [
            "Accuracy on testing data :  0.3233\n"
          ],
          "name": "stdout"
        }
      ]
    },
    {
      "cell_type": "code",
      "metadata": {
        "id": "QqVbXzV9bhet",
        "colab": {
          "base_uri": "https://localhost:8080/"
        },
        "outputId": "e67f79b1-da34-4ae0-860b-0fd755215660"
      },
      "source": [
        "print('Cross Validation Score : ', cross_val_score(model_b_1, x_train_1, y_train, cv=5))"
      ],
      "execution_count": 36,
      "outputs": [
        {
          "output_type": "stream",
          "text": [
            "Cross Validation Score :  [0.3175     0.32133333 0.312      0.32316667 0.318     ]\n"
          ],
          "name": "stdout"
        }
      ]
    },
    {
      "cell_type": "markdown",
      "metadata": {
        "id": "zJExgf-eblRL"
      },
      "source": [
        "Data with reduced dimensions"
      ]
    },
    {
      "cell_type": "code",
      "metadata": {
        "id": "uqfxazhwblri",
        "colab": {
          "base_uri": "https://localhost:8080/"
        },
        "outputId": "ce1c17d0-0ec2-4470-bb71-34d9e1bb6527"
      },
      "source": [
        "model_b_2 = AdaBoostClassifier(base_estimator = DecisionTreeClassifier(max_depth = 3), n_estimators = 10)\n",
        "model_b_2.fit(x_train_2, y_train)\n",
        "print('Accuracy on training data : ', model_b_2.score(x_train_2, y_train))"
      ],
      "execution_count": 37,
      "outputs": [
        {
          "output_type": "stream",
          "text": [
            "Accuracy on training data :  0.5183333333333333\n"
          ],
          "name": "stdout"
        }
      ]
    },
    {
      "cell_type": "code",
      "metadata": {
        "id": "Cxc-ZqmGbv-f",
        "colab": {
          "base_uri": "https://localhost:8080/"
        },
        "outputId": "3876219d-e445-4205-92c6-cf0678c10bef"
      },
      "source": [
        "print('Accuracy on validation data : ', model_b_2.score(x_val_2, y_val))"
      ],
      "execution_count": 38,
      "outputs": [
        {
          "output_type": "stream",
          "text": [
            "Accuracy on validation data :  0.3237\n"
          ],
          "name": "stdout"
        }
      ]
    },
    {
      "cell_type": "code",
      "metadata": {
        "id": "y3gmdH4eb8at",
        "colab": {
          "base_uri": "https://localhost:8080/"
        },
        "outputId": "ce50a125-1079-4ce0-cd31-ee62a7430f29"
      },
      "source": [
        "print('Accuracy on testing data : ', model_b_2.score(x_test_2, y_test))"
      ],
      "execution_count": 39,
      "outputs": [
        {
          "output_type": "stream",
          "text": [
            "Accuracy on testing data :  0.323\n"
          ],
          "name": "stdout"
        }
      ]
    },
    {
      "cell_type": "code",
      "metadata": {
        "id": "nvdyi7gScsbD",
        "colab": {
          "base_uri": "https://localhost:8080/"
        },
        "outputId": "5748cf8f-e4fb-41a5-b6f4-57749a1f3cc0"
      },
      "source": [
        "print('Cross Validation Score : ', cross_val_score(model_b_2, x_train_2, y_train, cv=5))"
      ],
      "execution_count": 40,
      "outputs": [
        {
          "output_type": "stream",
          "text": [
            "Cross Validation Score :  [0.50166667 0.51233333 0.5075     0.53       0.51616667]\n"
          ],
          "name": "stdout"
        }
      ]
    },
    {
      "cell_type": "markdown",
      "metadata": {
        "id": "zjPmhij7cvwD"
      },
      "source": [
        "Data with reduced features"
      ]
    },
    {
      "cell_type": "code",
      "metadata": {
        "id": "aDACwyVDcwKA",
        "colab": {
          "base_uri": "https://localhost:8080/"
        },
        "outputId": "8505c5e3-d215-4ece-fe1a-033abca08259"
      },
      "source": [
        "model_b_3 = AdaBoostClassifier(base_estimator = DecisionTreeClassifier(max_depth = 3), n_estimators = 10)\n",
        "model_b_3.fit(x_train_3, y_train)\n",
        "print('Accuracy on training data : ', model_b_3.score(x_train_3, y_train))"
      ],
      "execution_count": 41,
      "outputs": [
        {
          "output_type": "stream",
          "text": [
            "Accuracy on training data :  0.2599\n"
          ],
          "name": "stdout"
        }
      ]
    },
    {
      "cell_type": "code",
      "metadata": {
        "id": "93cWqfd3c9Si",
        "colab": {
          "base_uri": "https://localhost:8080/"
        },
        "outputId": "0be0b281-5622-400d-e254-ca0b1e01ed9f"
      },
      "source": [
        "print('Accuracy on validation data : ', model_b_3.score(x_val_3, y_val))"
      ],
      "execution_count": 42,
      "outputs": [
        {
          "output_type": "stream",
          "text": [
            "Accuracy on validation data :  0.24515\n"
          ],
          "name": "stdout"
        }
      ]
    },
    {
      "cell_type": "code",
      "metadata": {
        "id": "5KJ1lZLedVV1",
        "colab": {
          "base_uri": "https://localhost:8080/"
        },
        "outputId": "11e5185c-8f04-436e-c80f-b4c13ffe58bd"
      },
      "source": [
        "print('Accuracy on testing data : ', model_b_3.score(x_test_3, y_test))"
      ],
      "execution_count": 43,
      "outputs": [
        {
          "output_type": "stream",
          "text": [
            "Accuracy on testing data :  0.2526\n"
          ],
          "name": "stdout"
        }
      ]
    },
    {
      "cell_type": "code",
      "metadata": {
        "id": "1BxjPG38dZMw",
        "colab": {
          "base_uri": "https://localhost:8080/"
        },
        "outputId": "99891c6f-1adc-453d-a582-906a0d154209"
      },
      "source": [
        "print('Cross Validation Score : ', cross_val_score(model_b_3, x_train_3, y_train, cv=5))"
      ],
      "execution_count": 44,
      "outputs": [
        {
          "output_type": "stream",
          "text": [
            "Cross Validation Score :  [0.24683333 0.2495     0.25366667 0.249      0.24233333]\n"
          ],
          "name": "stdout"
        }
      ]
    },
    {
      "cell_type": "markdown",
      "metadata": {
        "id": "OCJuXO7dPJcd"
      },
      "source": [
        "###Naive bayes classifer"
      ]
    },
    {
      "cell_type": "markdown",
      "metadata": {
        "id": "xK7zD5IQb-nV"
      },
      "source": [
        "Scaled Data"
      ]
    },
    {
      "cell_type": "code",
      "metadata": {
        "id": "7L6Li_s4Po_D",
        "colab": {
          "base_uri": "https://localhost:8080/"
        },
        "outputId": "2c2c6f25-6428-4877-e1dd-170c83718285"
      },
      "source": [
        "model_nb_1 = GaussianNB()\n",
        "model_nb_1.fit(x_train_1, y_train)\n",
        "print('Accuracy on training data : ', model_nb_1.score(x_train_1, y_train))"
      ],
      "execution_count": 45,
      "outputs": [
        {
          "output_type": "stream",
          "text": [
            "Accuracy on training data :  0.2881666666666667\n"
          ],
          "name": "stdout"
        }
      ]
    },
    {
      "cell_type": "code",
      "metadata": {
        "id": "01gJIIDlcgy4",
        "colab": {
          "base_uri": "https://localhost:8080/"
        },
        "outputId": "d1c7dd42-8c4f-414c-db01-a00022cdb360"
      },
      "source": [
        "print('Accuracy on validation data : ', model_nb_1.score(x_val_1, y_val))"
      ],
      "execution_count": 46,
      "outputs": [
        {
          "output_type": "stream",
          "text": [
            "Accuracy on validation data :  0.2843\n"
          ],
          "name": "stdout"
        }
      ]
    },
    {
      "cell_type": "code",
      "metadata": {
        "id": "G2LukxYvbzDp",
        "colab": {
          "base_uri": "https://localhost:8080/"
        },
        "outputId": "d695df2e-6d6b-44db-95a7-39ae3e8d3bbf"
      },
      "source": [
        "print('Accuracy on testing data : ', model_nb_1.score(x_test_1, y_test))"
      ],
      "execution_count": 47,
      "outputs": [
        {
          "output_type": "stream",
          "text": [
            "Accuracy on testing data :  0.2968\n"
          ],
          "name": "stdout"
        }
      ]
    },
    {
      "cell_type": "code",
      "metadata": {
        "id": "dcZ9j11TotDP",
        "colab": {
          "base_uri": "https://localhost:8080/"
        },
        "outputId": "7104f263-52c1-4435-9161-4227081ed0cf"
      },
      "source": [
        "print('Cross Validation Score : ', cross_val_score(model_nb_1, x_train_1, y_train, cv=5))"
      ],
      "execution_count": 48,
      "outputs": [
        {
          "output_type": "stream",
          "text": [
            "Cross Validation Score :  [0.29166667 0.28566667 0.2775     0.29166667 0.2855    ]\n"
          ],
          "name": "stdout"
        }
      ]
    },
    {
      "cell_type": "markdown",
      "metadata": {
        "id": "MWisiTv6cA5Y"
      },
      "source": [
        "Data with reduced dimensions"
      ]
    },
    {
      "cell_type": "code",
      "metadata": {
        "id": "PV84aN59Pphf",
        "colab": {
          "base_uri": "https://localhost:8080/"
        },
        "outputId": "ffd20537-2a22-4bc9-8279-4989344b19b8"
      },
      "source": [
        "model_nb_2 = GaussianNB()\n",
        "model_nb_2.fit(x_train_2, y_train)\n",
        "print('Accuracy on training data : ', model_nb_2.score(x_train_2, y_train))"
      ],
      "execution_count": 49,
      "outputs": [
        {
          "output_type": "stream",
          "text": [
            "Accuracy on training data :  0.5642\n"
          ],
          "name": "stdout"
        }
      ]
    },
    {
      "cell_type": "code",
      "metadata": {
        "id": "H-rwDb83ckTJ",
        "colab": {
          "base_uri": "https://localhost:8080/"
        },
        "outputId": "39c22c22-687e-4421-cf23-4cd3f01723a9"
      },
      "source": [
        "print('Accuracy on validation data : ', model_nb_2.score(x_val_2, y_val))"
      ],
      "execution_count": 50,
      "outputs": [
        {
          "output_type": "stream",
          "text": [
            "Accuracy on validation data :  0.34795\n"
          ],
          "name": "stdout"
        }
      ]
    },
    {
      "cell_type": "code",
      "metadata": {
        "id": "mRBphCr3cXaD",
        "colab": {
          "base_uri": "https://localhost:8080/"
        },
        "outputId": "11c6fb61-4336-4270-a5db-d14941c8577d"
      },
      "source": [
        "print('Accuracy on testing data : ', model_nb_2.score(x_test_2, y_test))"
      ],
      "execution_count": 51,
      "outputs": [
        {
          "output_type": "stream",
          "text": [
            "Accuracy on testing data :  0.3424\n"
          ],
          "name": "stdout"
        }
      ]
    },
    {
      "cell_type": "code",
      "metadata": {
        "id": "Q6RYlq4rou1I",
        "colab": {
          "base_uri": "https://localhost:8080/"
        },
        "outputId": "8490e5c4-2788-4521-9d26-cd489e619d6e"
      },
      "source": [
        "print('Cross Validation Score : ', cross_val_score(model_nb_2, x_train_2, y_train, cv=5))"
      ],
      "execution_count": 52,
      "outputs": [
        {
          "output_type": "stream",
          "text": [
            "Cross Validation Score :  [0.55716667 0.56333333 0.55783333 0.57683333 0.56116667]\n"
          ],
          "name": "stdout"
        }
      ]
    },
    {
      "cell_type": "markdown",
      "metadata": {
        "id": "OYLRxHuqcafi"
      },
      "source": [
        "Data with reduced features"
      ]
    },
    {
      "cell_type": "code",
      "metadata": {
        "id": "q4qLTqfEPqLP",
        "colab": {
          "base_uri": "https://localhost:8080/"
        },
        "outputId": "87866726-0fcf-4f81-eff7-c82f12615471"
      },
      "source": [
        "model_nb_3 = GaussianNB()\n",
        "model_nb_3.fit(x_train_3, y_train)\n",
        "print('Accuracy on training data : ', model_nb_3.score(x_train_3, y_train))"
      ],
      "execution_count": 53,
      "outputs": [
        {
          "output_type": "stream",
          "text": [
            "Accuracy on training data :  0.23123333333333335\n"
          ],
          "name": "stdout"
        }
      ]
    },
    {
      "cell_type": "code",
      "metadata": {
        "id": "DiHZJ3abcnAS",
        "colab": {
          "base_uri": "https://localhost:8080/"
        },
        "outputId": "6e7d0ff9-e95e-4c06-956c-0bb0f6b0622c"
      },
      "source": [
        "print('Accuracy on validation data : ', model_nb_3.score(x_val_3, y_val))"
      ],
      "execution_count": 54,
      "outputs": [
        {
          "output_type": "stream",
          "text": [
            "Accuracy on validation data :  0.2266\n"
          ],
          "name": "stdout"
        }
      ]
    },
    {
      "cell_type": "code",
      "metadata": {
        "id": "7YZ-viHscm99",
        "colab": {
          "base_uri": "https://localhost:8080/"
        },
        "outputId": "530b2469-5173-4371-d565-63e6ab4814b4"
      },
      "source": [
        "print('Accuracy on testing data : ', model_nb_3.score(x_test_3, y_test))"
      ],
      "execution_count": 55,
      "outputs": [
        {
          "output_type": "stream",
          "text": [
            "Accuracy on testing data :  0.2344\n"
          ],
          "name": "stdout"
        }
      ]
    },
    {
      "cell_type": "code",
      "metadata": {
        "id": "xpJZjlKAowd1",
        "colab": {
          "base_uri": "https://localhost:8080/"
        },
        "outputId": "4acc00ca-ca3c-4883-b728-1ac9206f9cb6"
      },
      "source": [
        "print('Cross Validation Score : ', cross_val_score(model_nb_3, x_train_3, y_train, cv=5))"
      ],
      "execution_count": 56,
      "outputs": [
        {
          "output_type": "stream",
          "text": [
            "Cross Validation Score :  [0.2355     0.23566667 0.224      0.23016667 0.22416667]\n"
          ],
          "name": "stdout"
        }
      ]
    },
    {
      "cell_type": "markdown",
      "metadata": {
        "id": "9iA5GiLUBeDe"
      },
      "source": [
        "###Multi-layer-perceptron"
      ]
    },
    {
      "cell_type": "markdown",
      "metadata": {
        "id": "3TSO5wdhdh7P"
      },
      "source": [
        "Scaled Data"
      ]
    },
    {
      "cell_type": "code",
      "metadata": {
        "id": "umphO8lODDah",
        "colab": {
          "base_uri": "https://localhost:8080/"
        },
        "outputId": "e6a0e3b9-b4d7-4f89-c039-00f4cdefaab7"
      },
      "source": [
        "model_mlp_1 = MLPClassifier(learning_rate_init = 0.01, max_iter = 500)\n",
        "model_mlp_1.fit(x_train_1, y_train)\n",
        "print('Accuracy on training data : ', model_mlp_1.score(x_train_1, y_train))"
      ],
      "execution_count": 57,
      "outputs": [
        {
          "output_type": "stream",
          "text": [
            "Accuracy on training data :  0.5545333333333333\n"
          ],
          "name": "stdout"
        }
      ]
    },
    {
      "cell_type": "code",
      "metadata": {
        "id": "kKGlw-cYiEtI",
        "colab": {
          "base_uri": "https://localhost:8080/"
        },
        "outputId": "ed2196dd-bb1c-42b5-fae0-b03d0da9588b"
      },
      "source": [
        "print('Accuracy on validation data : ', model_mlp_1.score(x_val_1, y_val))"
      ],
      "execution_count": 58,
      "outputs": [
        {
          "output_type": "stream",
          "text": [
            "Accuracy on validation data :  0.4283\n"
          ],
          "name": "stdout"
        }
      ]
    },
    {
      "cell_type": "code",
      "metadata": {
        "id": "nkwM-QSbRJOi",
        "colab": {
          "base_uri": "https://localhost:8080/"
        },
        "outputId": "4bb411f9-4315-4174-883e-f486fe3f28c5"
      },
      "source": [
        "print('Accuracy on testing data : ', model_mlp_1.score(x_test_1, y_test))"
      ],
      "execution_count": 59,
      "outputs": [
        {
          "output_type": "stream",
          "text": [
            "Accuracy on testing data :  0.429\n"
          ],
          "name": "stdout"
        }
      ]
    },
    {
      "cell_type": "code",
      "metadata": {
        "id": "hwfBLBO8o2Z4",
        "colab": {
          "base_uri": "https://localhost:8080/"
        },
        "outputId": "1a56a4b8-5e10-40c8-9327-3ed068d7c6c3"
      },
      "source": [
        "print('Cross Validation Score : ', cross_val_score(model_mlp_1, x_train_1, y_train, cv=5))"
      ],
      "execution_count": 60,
      "outputs": [
        {
          "output_type": "stream",
          "text": [
            "Cross Validation Score :  [0.4235     0.42766667 0.4175     0.42383333 0.422     ]\n"
          ],
          "name": "stdout"
        }
      ]
    },
    {
      "cell_type": "markdown",
      "metadata": {
        "id": "9o-LCg0QdoWe"
      },
      "source": [
        "Data with reduced dimensions"
      ]
    },
    {
      "cell_type": "code",
      "metadata": {
        "id": "arFBhYJ0KtJB",
        "colab": {
          "base_uri": "https://localhost:8080/"
        },
        "outputId": "74daae2c-e003-46b4-87ea-1ef3ef1608a6"
      },
      "source": [
        "model_mlp_2 = MLPClassifier(learning_rate_init = 0.01, max_iter = 500)\n",
        "model_mlp_2.fit(x_train_2, y_train)\n",
        "print('Accuracy on training data : ', model_mlp_2.score(x_train_2, y_train))"
      ],
      "execution_count": 61,
      "outputs": [
        {
          "output_type": "stream",
          "text": [
            "Accuracy on training data :  0.5841666666666666\n"
          ],
          "name": "stdout"
        }
      ]
    },
    {
      "cell_type": "code",
      "metadata": {
        "id": "Yhgo2wiSitMj",
        "colab": {
          "base_uri": "https://localhost:8080/"
        },
        "outputId": "ea0e893b-2536-410c-c9ce-adc427e87212"
      },
      "source": [
        "print('Accuracy on validation data : ', model_mlp_2.score(x_val_2, y_val))"
      ],
      "execution_count": 62,
      "outputs": [
        {
          "output_type": "stream",
          "text": [
            "Accuracy on validation data :  0.3476\n"
          ],
          "name": "stdout"
        }
      ]
    },
    {
      "cell_type": "code",
      "metadata": {
        "id": "Gew2Us9yQtx2",
        "colab": {
          "base_uri": "https://localhost:8080/"
        },
        "outputId": "d87934c7-f639-4af3-e469-4110322d25b2"
      },
      "source": [
        "print('Accuracy on testing data : ', model_mlp_2.score(x_test_2, y_test))"
      ],
      "execution_count": 63,
      "outputs": [
        {
          "output_type": "stream",
          "text": [
            "Accuracy on testing data :  0.3414\n"
          ],
          "name": "stdout"
        }
      ]
    },
    {
      "cell_type": "code",
      "metadata": {
        "id": "a_yvuJ8Ko49j",
        "colab": {
          "base_uri": "https://localhost:8080/"
        },
        "outputId": "1283a2ab-4761-4ddf-8641-8263a62fe016"
      },
      "source": [
        "print('Cross Validation Score : ', cross_val_score(model_mlp_2, x_train_2, y_train, cv=5))"
      ],
      "execution_count": 64,
      "outputs": [
        {
          "output_type": "stream",
          "text": [
            "Cross Validation Score :  [0.55616667 0.562      0.555      0.56766667 0.56316667]\n"
          ],
          "name": "stdout"
        }
      ]
    },
    {
      "cell_type": "markdown",
      "metadata": {
        "id": "CbeVwLhOdq7R"
      },
      "source": [
        "Data with reduced features"
      ]
    },
    {
      "cell_type": "code",
      "metadata": {
        "id": "odfiu2F4Mb48",
        "colab": {
          "base_uri": "https://localhost:8080/"
        },
        "outputId": "65c48f45-6dd6-4fa5-9b9b-640a8fc066a7"
      },
      "source": [
        "model_mlp_3 = MLPClassifier(learning_rate_init = 0.01, max_iter = 500)\n",
        "model_mlp_3.fit(x_train_3, y_train)\n",
        "print('Accuracy on training data : ', model_mlp_3.score(x_train_3, y_train))"
      ],
      "execution_count": 65,
      "outputs": [
        {
          "output_type": "stream",
          "text": [
            "Accuracy on training data :  0.6612333333333333\n"
          ],
          "name": "stdout"
        }
      ]
    },
    {
      "cell_type": "code",
      "metadata": {
        "id": "v-rXpIc6jGY6",
        "colab": {
          "base_uri": "https://localhost:8080/"
        },
        "outputId": "bc468372-3bb4-4f8e-9d96-84eb1ff38843"
      },
      "source": [
        "print('Accuracy on validation data : ', model_mlp_3.score(x_val_3, y_val))"
      ],
      "execution_count": 66,
      "outputs": [
        {
          "output_type": "stream",
          "text": [
            "Accuracy on validation data :  0.2925\n"
          ],
          "name": "stdout"
        }
      ]
    },
    {
      "cell_type": "code",
      "metadata": {
        "id": "TTjm5x95Q3CJ",
        "colab": {
          "base_uri": "https://localhost:8080/"
        },
        "outputId": "8d8fb6ae-e88b-4cea-e689-49e2d18c10ae"
      },
      "source": [
        "print('Accuracy on testing data : ', model_mlp_3.score(x_test_3, y_test))"
      ],
      "execution_count": 67,
      "outputs": [
        {
          "output_type": "stream",
          "text": [
            "Accuracy on testing data :  0.3039\n"
          ],
          "name": "stdout"
        }
      ]
    },
    {
      "cell_type": "code",
      "metadata": {
        "id": "oEvXYbLmo7Fk",
        "colab": {
          "base_uri": "https://localhost:8080/"
        },
        "outputId": "59d88099-e38d-4a35-8d74-0e484dbfe28c"
      },
      "source": [
        "print('Cross Validation Score : ', cross_val_score(model_mlp_3, x_train_3, y_train, cv=5))"
      ],
      "execution_count": 68,
      "outputs": [
        {
          "output_type": "stream",
          "text": [
            "Cross Validation Score :  [0.293      0.28466667 0.2875     0.3055     0.29      ]\n"
          ],
          "name": "stdout"
        }
      ]
    },
    {
      "cell_type": "markdown",
      "metadata": {
        "id": "FbeL1_nmYZ0o"
      },
      "source": [
        "###Visualisation"
      ]
    },
    {
      "cell_type": "markdown",
      "metadata": {
        "id": "4o3267cA2YW1"
      },
      "source": [
        "Plotting figures for visualisation of differnt classes"
      ]
    },
    {
      "cell_type": "code",
      "metadata": {
        "id": "7uHr0omY2e0f"
      },
      "source": [
        "def category(a):\n",
        "  dic = dict()\n",
        "  dic[0] = 'Airplane'\n",
        "  dic[1] = 'Automobile'\n",
        "  dic[2] = 'Bird'\n",
        "  dic[3] = 'Cat'\n",
        "  dic[4] = 'Deer'\n",
        "  dic[5] = 'Dog'\n",
        "  dic[6] = 'Frog'\n",
        "  dic[7] = 'Horse'\n",
        "  dic[8] = 'Ship'\n",
        "  dic[9] = 'Truck'\n",
        "  return dic[a]\n",
        "\n",
        "def plot_img(i):\n",
        "  arr1 = x_train.iloc[i, 0:1024]\n",
        "  arr2 = x_train.iloc[i, 1024:2048]\n",
        "  arr3 = x_train.iloc[i, 2048:3072]\n",
        "  arr4 = x_train_g.iloc[i, :]\n",
        "  arr1 = np.array(arr1)\n",
        "  arr2 = np.array(arr2)\n",
        "  arr3 = np.array(arr3)\n",
        "  arr4 = np.array(arr4)\n",
        "  img1 = arr1.reshape(32, 32, 1)\n",
        "  img2 = arr2.reshape(32, 32, 1)\n",
        "  img3 = arr3.reshape(32, 32, 1)\n",
        "  img4 = arr3.reshape(32, 32)\n",
        "  img = np.concatenate((img1, img2, img3), axis = 2)\n",
        "  plt.imshow(img, interpolation = 'nearest')\n",
        "  plt.axis('off')\n",
        "  plt.show()\n",
        "  print('\\n')\n",
        "  print('Class : ', y_train[i], ' : ', category(y_train[i]))\n",
        "  print('\\n')\n",
        "  plt.imshow(img4, cmap = 'gray', interpolation = 'nearest')\n",
        "  plt.axis('off')\n",
        "  plt.show()"
      ],
      "execution_count": 69,
      "outputs": []
    },
    {
      "cell_type": "code",
      "metadata": {
        "id": "n23b2wedqNGz",
        "colab": {
          "base_uri": "https://localhost:8080/",
          "height": 564
        },
        "outputId": "e9f792fe-3df2-479e-f7f0-85995543f4ee"
      },
      "source": [
        "plot_img(30)"
      ],
      "execution_count": 70,
      "outputs": [
        {
          "output_type": "display_data",
          "data": {
            "image/png": "[encoded data removed]",
            "text/plain": [
              "<Figure size 432x288 with 1 Axes>"
            ]
          },
          "metadata": {
            "tags": [],
            "needs_background": "light"
          }
        },
        {
          "output_type": "stream",
          "text": [
            "\n",
            "\n",
            "Class :  0  :  Airplane\n",
            "\n",
            "\n"
          ],
          "name": "stdout"
        },
        {
          "output_type": "display_data",
          "data": {
            "image/png": "[encoded data removed]",
            "text/plain": [
              "<Figure size 432x288 with 1 Axes>"
            ]
          },
          "metadata": {
            "tags": [],
            "needs_background": "light"
          }
        }
      ]
    },
    {
      "cell_type": "code",
      "metadata": {
        "id": "F5VY80DaqO3Z",
        "colab": {
          "base_uri": "https://localhost:8080/",
          "height": 564
        },
        "outputId": "1532705d-f964-45bf-eb6f-990d20558923"
      },
      "source": [
        "plot_img(4)"
      ],
      "execution_count": 71,
      "outputs": [
        {
          "output_type": "display_data",
          "data": {
            "image/png": "[encoded data removed]",
            "text/plain": [
              "<Figure size 432x288 with 1 Axes>"
            ]
          },
          "metadata": {
            "tags": [],
            "needs_background": "light"
          }
        },
        {
          "output_type": "stream",
          "text": [
            "\n",
            "\n",
            "Class :  1  :  Automobile\n",
            "\n",
            "\n"
          ],
          "name": "stdout"
        },
        {
          "output_type": "display_data",
          "data": {
            "image/png": "[encoded data removed]",
            "text/plain": [
              "<Figure size 432x288 with 1 Axes>"
            ]
          },
          "metadata": {
            "tags": [],
            "needs_background": "light"
          }
        }
      ]
    },
    {
      "cell_type": "code",
      "metadata": {
        "id": "FyUEKDUmqi6f",
        "colab": {
          "base_uri": "https://localhost:8080/",
          "height": 564
        },
        "outputId": "08f7743b-a480-4edb-b9f4-34cad5c5b514"
      },
      "source": [
        "plot_img(6)"
      ],
      "execution_count": 72,
      "outputs": [
        {
          "output_type": "display_data",
          "data": {
            "image/png": "[encoded data removed]",
            "text/plain": [
              "<Figure size 432x288 with 1 Axes>"
            ]
          },
          "metadata": {
            "tags": [],
            "needs_background": "light"
          }
        },
        {
          "output_type": "stream",
          "text": [
            "\n",
            "\n",
            "Class :  2  :  Bird\n",
            "\n",
            "\n"
          ],
          "name": "stdout"
        },
        {
          "output_type": "display_data",
          "data": {
            "image/png": "[encoded data removed]",
            "text/plain": [
              "<Figure size 432x288 with 1 Axes>"
            ]
          },
          "metadata": {
            "tags": [],
            "needs_background": "light"
          }
        }
      ]
    },
    {
      "cell_type": "code",
      "metadata": {
        "id": "mRt62iTyqtXx",
        "colab": {
          "base_uri": "https://localhost:8080/",
          "height": 564
        },
        "outputId": "3a30cf13-2586-4822-e83f-1c5cc152c612"
      },
      "source": [
        "plot_img(59)"
      ],
      "execution_count": 73,
      "outputs": [
        {
          "output_type": "display_data",
          "data": {
            "image/png": "[encoded data removed]",
            "text/plain": [
              "<Figure size 432x288 with 1 Axes>"
            ]
          },
          "metadata": {
            "tags": [],
            "needs_background": "light"
          }
        },
        {
          "output_type": "stream",
          "text": [
            "\n",
            "\n",
            "Class :  3  :  Cat\n",
            "\n",
            "\n"
          ],
          "name": "stdout"
        },
        {
          "output_type": "display_data",
          "data": {
            "image/png": "[encoded data removed]",
            "text/plain": [
              "<Figure size 432x288 with 1 Axes>"
            ]
          },
          "metadata": {
            "tags": [],
            "needs_background": "light"
          }
        }
      ]
    },
    {
      "cell_type": "code",
      "metadata": {
        "id": "WMq9c8kUqv0m",
        "colab": {
          "base_uri": "https://localhost:8080/",
          "height": 564
        },
        "outputId": "c44d0207-53ad-445a-95e6-63d759481942"
      },
      "source": [
        "plot_img(82)"
      ],
      "execution_count": 74,
      "outputs": [
        {
          "output_type": "display_data",
          "data": {
            "image/png": "[encoded data removed]",
            "text/plain": [
              "<Figure size 432x288 with 1 Axes>"
            ]
          },
          "metadata": {
            "tags": [],
            "needs_background": "light"
          }
        },
        {
          "output_type": "stream",
          "text": [
            "\n",
            "\n",
            "Class :  4  :  Deer\n",
            "\n",
            "\n"
          ],
          "name": "stdout"
        },
        {
          "output_type": "display_data",
          "data": {
            "image/png": "[encoded data removed]",
            "text/plain": [
              "<Figure size 432x288 with 1 Axes>"
            ]
          },
          "metadata": {
            "tags": [],
            "needs_background": "light"
          }
        }
      ]
    },
    {
      "cell_type": "code",
      "metadata": {
        "id": "RsqLrlQ2q1ro",
        "colab": {
          "base_uri": "https://localhost:8080/",
          "height": 564
        },
        "outputId": "9e6c0459-8ce6-4ab0-90fb-442d11a8e2fd"
      },
      "source": [
        "plot_img(156)"
      ],
      "execution_count": 75,
      "outputs": [
        {
          "output_type": "display_data",
          "data": {
            "image/png": "[encoded data removed]",
            "text/plain": [
              "<Figure size 432x288 with 1 Axes>"
            ]
          },
          "metadata": {
            "tags": [],
            "needs_background": "light"
          }
        },
        {
          "output_type": "stream",
          "text": [
            "\n",
            "\n",
            "Class :  5  :  Dog\n",
            "\n",
            "\n"
          ],
          "name": "stdout"
        },
        {
          "output_type": "display_data",
          "data": {
            "image/png": "[encoded data removed]",
            "text/plain": [
              "<Figure size 432x288 with 1 Axes>"
            ]
          },
          "metadata": {
            "tags": [],
            "needs_background": "light"
          }
        }
      ]
    },
    {
      "cell_type": "code",
      "metadata": {
        "id": "0qtWd5tbrEyd",
        "colab": {
          "base_uri": "https://localhost:8080/",
          "height": 564
        },
        "outputId": "93cbed4d-41e3-42c9-c90f-f6d753db940c"
      },
      "source": [
        "plot_img(19)"
      ],
      "execution_count": 76,
      "outputs": [
        {
          "output_type": "display_data",
          "data": {
            "image/png": "[encoded data removed]",
            "text/plain": [
              "<Figure size 432x288 with 1 Axes>"
            ]
          },
          "metadata": {
            "tags": [],
            "needs_background": "light"
          }
        },
        {
          "output_type": "stream",
          "text": [
            "\n",
            "\n",
            "Class :  6  :  Frog\n",
            "\n",
            "\n"
          ],
          "name": "stdout"
        },
        {
          "output_type": "display_data",
          "data": {
            "image/png": "[encoded data removed]",
            "text/plain": [
              "<Figure size 432x288 with 1 Axes>"
            ]
          },
          "metadata": {
            "tags": [],
            "needs_background": "light"
          }
        }
      ]
    },
    {
      "cell_type": "code",
      "metadata": {
        "id": "V68PeW42rK2J",
        "colab": {
          "base_uri": "https://localhost:8080/",
          "height": 564
        },
        "outputId": "42924a57-b124-4f9a-f3c9-37f11fd867f1"
      },
      "source": [
        "plot_img(7)"
      ],
      "execution_count": 77,
      "outputs": [
        {
          "output_type": "display_data",
          "data": {
            "image/png": "[encoded data removed]",
            "text/plain": [
              "<Figure size 432x288 with 1 Axes>"
            ]
          },
          "metadata": {
            "tags": [],
            "needs_background": "light"
          }
        },
        {
          "output_type": "stream",
          "text": [
            "\n",
            "\n",
            "Class :  7  :  Horse\n",
            "\n",
            "\n"
          ],
          "name": "stdout"
        },
        {
          "output_type": "display_data",
          "data": {
            "image/png": "[encoded data removed]",
            "text/plain": [
              "<Figure size 432x288 with 1 Axes>"
            ]
          },
          "metadata": {
            "tags": [],
            "needs_background": "light"
          }
        }
      ]
    },
    {
      "cell_type": "code",
      "metadata": {
        "id": "ecku7GIarR2k",
        "colab": {
          "base_uri": "https://localhost:8080/",
          "height": 564
        },
        "outputId": "dd534253-4e6a-4da8-98ed-38b312b28dd4"
      },
      "source": [
        "plot_img(106)"
      ],
      "execution_count": 78,
      "outputs": [
        {
          "output_type": "display_data",
          "data": {
            "image/png": "[encoded data removed]",
            "text/plain": [
              "<Figure size 432x288 with 1 Axes>"
            ]
          },
          "metadata": {
            "tags": [],
            "needs_background": "light"
          }
        },
        {
          "output_type": "stream",
          "text": [
            "\n",
            "\n",
            "Class :  8  :  Ship\n",
            "\n",
            "\n"
          ],
          "name": "stdout"
        },
        {
          "output_type": "display_data",
          "data": {
            "image/png": "[encoded data removed]",
            "text/plain": [
              "<Figure size 432x288 with 1 Axes>"
            ]
          },
          "metadata": {
            "tags": [],
            "needs_background": "light"
          }
        }
      ]
    },
    {
      "cell_type": "code",
      "metadata": {
        "id": "WZQhIYa60Z8D",
        "colab": {
          "base_uri": "https://localhost:8080/",
          "height": 564
        },
        "outputId": "55c385c2-0ff6-4ca4-88a9-bb22c54eda1b"
      },
      "source": [
        "plot_img(1)"
      ],
      "execution_count": 79,
      "outputs": [
        {
          "output_type": "display_data",
          "data": {
            "image/png": "[encoded data removed]",
            "text/plain": [
              "<Figure size 432x288 with 1 Axes>"
            ]
          },
          "metadata": {
            "tags": [],
            "needs_background": "light"
          }
        },
        {
          "output_type": "stream",
          "text": [
            "\n",
            "\n",
            "Class :  9  :  Truck\n",
            "\n",
            "\n"
          ],
          "name": "stdout"
        },
        {
          "output_type": "display_data",
          "data": {
            "image/png": "[encoded data removed]",
            "text/plain": [
              "<Figure size 432x288 with 1 Axes>"
            ]
          },
          "metadata": {
            "tags": [],
            "needs_background": "light"
          }
        }
      ]
    }
  ]
}